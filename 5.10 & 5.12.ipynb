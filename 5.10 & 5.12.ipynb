{
 "cells": [
  {
   "cell_type": "code",
   "execution_count": 39,
   "metadata": {},
   "outputs": [],
   "source": [
    "from sklearn.svm import SVC\n",
    "from sklearn.feature_selection import RFE\n",
    "import matplotlib.pyplot as plt\n",
    "\n",
    "import numpy as np\n",
    "import pandas as pd\n",
    "\n",
    "df = pandas.read_table('./malwareBenignScores.txt', delim_whitespace=True, header = 1,\n",
    "                   dtype={'OGS': np.float64, 'HMM': np.float64, 'SSD': np.float64})\n"
   ]
  },
  {
   "cell_type": "code",
   "execution_count": 40,
   "metadata": {},
   "outputs": [],
   "source": []
  },
  {
   "cell_type": "code",
   "execution_count": 85,
   "metadata": {},
   "outputs": [],
   "source": [
    "X0 = pd.DataFrame()\n",
    "X1 = pd.DataFrame()\n",
    "X0['HMM'] = df.HMM\n",
    "X0['SSD'] = df.SSD\n",
    "X0['OGS'] = df.OGS\n",
    "X0['Score'] = 1\n",
    "X1['HMM'] = df.HMM-1\n",
    "X1['SSD'] = df.SSD-1\n",
    "X1['OGS'] = df.OGS-1\n",
    "X1['Score'] = -1\n",
    "frames = [X0,X1]\n",
    "X = pd.concat(frames)\n",
    "\n",
    "Y = pd.DataFrame()\n",
    "Y = X['Score']\n",
    "Xtrain1 = X[0:20]\n",
    "Xtrain2 = X[40:60]\n",
    "\n",
    "framesTrain = [Xtrain1,Xtrain2]\n",
    "Xtrain = pd.concat(framesTrain)\n",
    "\n",
    "Ytrain = Xtrain['Score']\n",
    "del Xtrain['Score']"
   ]
  },
  {
   "cell_type": "code",
   "execution_count": 91,
   "metadata": {},
   "outputs": [],
   "source": [
    "Xtest1 = X[20:40]\n",
    "Xtest2 = X[60:80]\n",
    "framesTest = [Xtest1,Xtest2]\n",
    "Xtest = pd.concat(framesTest)\n",
    "Ytest = Xtest['Score']\n",
    "del Xtest['Score']"
   ]
  },
  {
   "cell_type": "code",
   "execution_count": 98,
   "metadata": {},
   "outputs": [
    {
     "data": {
      "text/plain": [
       "array([ 1,  1,  1,  1,  1,  1,  1,  1,  1,  1,  1,  1,  1,  1,  1,  1,  1,\n",
       "        1,  1,  1, -1, -1, -1, -1, -1, -1, -1, -1, -1, -1, -1, -1, -1, -1,\n",
       "       -1, -1, -1, -1, -1, -1])"
      ]
     },
     "execution_count": 98,
     "metadata": {},
     "output_type": "execute_result"
    }
   ],
   "source": [
    "lin_clf = SVC(C=1.0, kernel='poly',degree=2)\n",
    "lin_clf.fit(Xtrain,Ytrain)\n",
    "lin_clf.predict(Xtest)\n",
    "#accuracy = 40/40 = 100%"
   ]
  },
  {
   "cell_type": "code",
   "execution_count": 99,
   "metadata": {},
   "outputs": [
    {
     "data": {
      "text/plain": [
       "array([ 1,  1,  1,  1,  1,  1,  1,  1,  1,  1,  1,  1,  1,  1,  1,  1,  1,\n",
       "        1,  1,  1, -1, -1, -1, -1, -1, -1, -1, -1, -1, -1, -1, -1, -1, -1,\n",
       "       -1, -1, -1, -1, -1, -1])"
      ]
     },
     "execution_count": 99,
     "metadata": {},
     "output_type": "execute_result"
    }
   ],
   "source": [
    "lin_clf2 = SVC(C=3.0, kernel='poly',degree=2)\n",
    "lin_clf2.fit(Xtrain,Ytrain)\n",
    "lin_clf2.predict(Xtest)\n",
    "#accuracy = 40/40 = 100%"
   ]
  },
  {
   "cell_type": "code",
   "execution_count": 100,
   "metadata": {},
   "outputs": [
    {
     "data": {
      "text/plain": [
       "array([ 1,  1,  1,  1,  1,  1,  1,  1,  1,  1,  1,  1,  1,  1,  1,  1,  1,\n",
       "        1,  1,  1, -1, -1, -1, -1, -1, -1, -1, -1, -1, -1, -1, -1, -1, -1,\n",
       "       -1, -1, -1, -1, -1, -1])"
      ]
     },
     "execution_count": 100,
     "metadata": {},
     "output_type": "execute_result"
    }
   ],
   "source": [
    "lin_clf3 = SVC(C=1.0, kernel='poly',degree=4)\n",
    "lin_clf3.fit(Xtrain,Ytrain)\n",
    "lin_clf3.predict(Xtest)\n",
    "#accuracy = 40/40 = 100%"
   ]
  },
  {
   "cell_type": "code",
   "execution_count": 101,
   "metadata": {},
   "outputs": [
    {
     "data": {
      "text/plain": [
       "array([ 1,  1,  1,  1,  1,  1,  1,  1,  1,  1,  1,  1,  1,  1,  1,  1,  1,\n",
       "        1,  1,  1, -1, -1, -1, -1, -1, -1, -1, -1, -1, -1, -1, -1, -1, -1,\n",
       "       -1, -1, -1, -1, -1, -1])"
      ]
     },
     "execution_count": 101,
     "metadata": {},
     "output_type": "execute_result"
    }
   ],
   "source": [
    "lin_clf4 = SVC(C=3.0, kernel='poly',degree=4)\n",
    "lin_clf4.fit(Xtrain,Ytrain)\n",
    "lin_clf4.predict(Xtest)\n",
    "#accuracy = 40/40 = 100%"
   ]
  },
  {
   "cell_type": "code",
   "execution_count": null,
   "metadata": {},
   "outputs": [],
   "source": []
  },
  {
   "cell_type": "code",
   "execution_count": null,
   "metadata": {},
   "outputs": [],
   "source": []
  },
  {
   "cell_type": "code",
   "execution_count": null,
   "metadata": {},
   "outputs": [],
   "source": []
  },
  {
   "cell_type": "code",
   "execution_count": null,
   "metadata": {},
   "outputs": [],
   "source": []
  }
 ],
 "metadata": {
  "kernelspec": {
   "display_name": "Python 3",
   "language": "python",
   "name": "python3"
  },
  "language_info": {
   "codemirror_mode": {
    "name": "ipython",
    "version": 3
   },
   "file_extension": ".py",
   "mimetype": "text/x-python",
   "name": "python",
   "nbconvert_exporter": "python",
   "pygments_lexer": "ipython3",
   "version": "3.6.2"
  }
 },
 "nbformat": 4,
 "nbformat_minor": 2
}
